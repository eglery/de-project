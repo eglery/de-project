{
 "cells": [
  {
   "cell_type": "code",
   "execution_count": 1,
   "metadata": {},
   "outputs": [],
   "source": [
    "import json\n",
    "from py2neo import Graph\n",
    "import pandas as pd\n",
    "import subprocess\n",
    "import re"
   ]
  },
  {
   "cell_type": "code",
   "execution_count": null,
   "metadata": {},
   "outputs": [],
   "source": [
    "chunks = pd.read_json(\"arxiv-metadata-oai-snapshot.json\", lines=True, chunksize = 300000)\n",
    "i = 0\n",
    "for c in chunks:\n",
    "    c.to_csv(f\"neo4j/import/data_{i}.csv\", index=False)\n",
    "    i += 1"
   ]
  },
  {
   "cell_type": "code",
   "execution_count": 48,
   "metadata": {},
   "outputs": [],
   "source": [
    "data = pd.read_csv('neo4j/import/data_1.csv')"
   ]
  },
  {
   "cell_type": "code",
   "execution_count": 49,
   "metadata": {},
   "outputs": [],
   "source": [
    "# remove punctuation!\n",
    "data = data[['id', 'authors', 'title']]\n",
    "data['authors'] = data['authors'].apply(lambda x: re.split(', | and ', x))\n",
    "data = data.explode('authors')\n",
    "data['authors'] = data['authors'].fillna('')\n",
    "data['authors'] = data['authors'].apply(lambda x: x.replace('\"', ''))\n",
    "data['authors'] = data['authors'].apply(lambda x: x.replace(\"'\", ''))\n",
    "data['authors'] = data['authors'].apply(lambda x: x.replace('\\\\',''))\n",
    "data['title'] = data['title'].fillna('')\n",
    "data['title'] = data['title'].apply(lambda x: x.replace('\"', ''))"
   ]
  },
  {
   "cell_type": "code",
   "execution_count": 50,
   "metadata": {},
   "outputs": [],
   "source": [
    "data['author_id'] = data['authors'].apply(lambda x: x.split(' ')[-1].lower())\n",
    "data['author_label'] = 'Author'\n",
    "data['paper_label'] = 'Paper'\n",
    "data['relationship_type'] = 'WROTE'\n",
    "data = data[data['author_id'] != '']"
   ]
  },
  {
   "cell_type": "code",
   "execution_count": 65,
   "metadata": {},
   "outputs": [],
   "source": [
    "data[['id', 'title', 'paper_label']].drop_duplicates().to_csv('neo4j/import/papers1.csv', index=False, header=False)\n",
    "data[~data['author_id'].isin(pd.read_csv('neo4j/import/authors.csv', header=None)[0])][['author_id', 'authors', 'author_label']].drop_duplicates('author_id').to_csv('neo4j/import/authors1.csv', index=False, header=False)\n",
    "data[['author_id', 'id', 'relationship_type']].drop_duplicates().to_csv('neo4j/import/relations1.csv', index=False, header=False)"
   ]
  },
  {
   "cell_type": "markdown",
   "metadata": {},
   "source": [
    "paperId:ID,title,:LABEL\n",
    "\n",
    "personId:ID,name,:LABEL\n",
    "\n",
    ":START_ID,:END_ID,:TYPE"
   ]
  },
  {
   "cell_type": "code",
   "execution_count": 34,
   "metadata": {},
   "outputs": [
    {
     "name": "stdout",
     "output_type": "stream",
     "text": [
      "Error Connection to Neo4j DB!!\n"
     ]
    }
   ],
   "source": [
    "try:\n",
    "    graph = Graph(\"bolt://localhost:7687\")\n",
    "except:\n",
    "    print(\"Error Connection to Neo4j DB!!\")"
   ]
  },
  {
   "cell_type": "code",
   "execution_count": null,
   "metadata": {},
   "outputs": [],
   "source": [
    "graph.delete_all()"
   ]
  }
 ],
 "metadata": {
  "kernelspec": {
   "display_name": ".venv",
   "language": "python",
   "name": "python3"
  },
  "language_info": {
   "codemirror_mode": {
    "name": "ipython",
    "version": 3
   },
   "file_extension": ".py",
   "mimetype": "text/x-python",
   "name": "python",
   "nbconvert_exporter": "python",
   "pygments_lexer": "ipython3",
   "version": "3.11.5"
  }
 },
 "nbformat": 4,
 "nbformat_minor": 2
}
